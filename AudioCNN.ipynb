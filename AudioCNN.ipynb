{
 "cells": [
  {
   "cell_type": "code",
   "execution_count": 2,
   "metadata": {},
   "outputs": [
    {
     "name": "stdout",
     "output_type": "stream",
     "text": [
      "Populating the interactive namespace from numpy and matplotlib\n"
     ]
    }
   ],
   "source": [
    "% pylab inline\n",
    "import os\n",
    "import pandas as pd\n",
    "import librosa\n",
    "import librosa.display\n",
    "import glob \n",
    "import pandas as pd"
   ]
  },
  {
   "cell_type": "markdown",
   "metadata": {},
   "source": [
    "# Retrieving sound files from set A"
   ]
  },
  {
   "cell_type": "code",
   "execution_count": 4,
   "metadata": {},
   "outputs": [],
   "source": [
    "# The dictionary that will have, as a key, the file name\n",
    "# For each value, it is an array that contains \n",
    "sounds = {}\n",
    "\n",
    "# Looping through each .wav file from set A and loading them into the dictionary\n",
    "for sound_file in os.listdir(\"Sounds/set_a/\"):\n",
    "    filename = sound_file[:len(sound_file) - 4]\n",
    "    sound_file = \"Sounds/set_a/\" + sound_file\n",
    "    wave, sampling_rate = librosa.load(sound_file)\n",
    "    sounds[filename] = [wave, sampling_rate]"
   ]
  },
  {
   "cell_type": "code",
   "execution_count": 6,
   "metadata": {},
   "outputs": [
    {
     "name": "stdout",
     "output_type": "stream",
     "text": [
      "{'Aunlabelledtest__201106130440': [array([0.00378815, 0.00506028, 0.00434986, ..., 0.00827065, 0.00905965,\n",
      "       0.01108678], dtype=float32), 22050], 'artifact__201106031558': [array([-0.0309997 , -0.0450812 , -0.04057045, ..., -0.0011878 ,\n",
      "       -0.00156717, -0.0013514 ], dtype=float32), 22050], 'normal__201103221214': [array([-1.3892833e-05,  6.8780496e-06, -1.7347546e-06, ...,\n",
      "       -4.0011793e-05,  2.5705012e-05,  0.0000000e+00], dtype=float32), 22050], 'normal__201102201230': [array([ 2.2227359e-04,  2.7312763e-04, -3.8529575e-04, ...,\n",
      "       -2.1809576e-05, -9.4968027e-06,  4.0303657e-05], dtype=float32), 22050], 'artifact__201106110909': [array([-6.6588284e-04, -1.1942948e-03, -1.0165959e-03, ...,\n",
      "       -7.0522685e-05, -2.0178179e-04, -2.0479674e-04], dtype=float32), 22050], 'Aunlabelledtest__201103232251': [array([ 5.0206115e-03,  6.5420736e-03,  4.9031954e-03, ...,\n",
      "       -2.0946152e-04, -4.6858226e-05, -4.0175943e-04], dtype=float32), 22050], 'Aunlabelledtest__201103200518': [array([-0.00032131, -0.0001818 ,  0.00015905, ..., -0.00051932,\n",
      "       -0.00038811,  0.        ], dtype=float32), 22050], 'Aunlabelledtest__201103170122': [array([-4.22179655e-05, -2.32695136e-04, -1.38520572e-05, ...,\n",
      "        1.09793786e-04,  7.77863752e-05, -5.65702103e-05], dtype=float32), 22050], 'Aunlabelledtest__201106061104': [array([-0.0195663 , -0.02000409, -0.00946919, ...,  0.00327883,\n",
      "       -0.02312424, -0.03963439], dtype=float32), 22050], 'artifact__201106111119': [array([-0.23759726, -0.4500935 , -0.5242221 , ...,  0.18652982,\n",
      "        0.01233751, -0.2875479 ], dtype=float32), 22050], 'Aunlabelledtest__201106191034': [array([-0.00190275, -0.00103842,  0.00102734, ...,  0.00257406,\n",
      "        0.00204071,  0.00128856], dtype=float32), 22050], 'Aunlabelledtest__201101152256': [array([ 2.8475282e-05, -3.7050970e-05,  7.6312826e-05, ...,\n",
      "       -3.5987233e-04, -3.7585376e-04,  0.0000000e+00], dtype=float32), 22050], 'murmur__201108222251': [array([-0.01321066, -0.02129317, -0.02042523, ..., -0.0286542 ,\n",
      "       -0.030489  , -0.0322646 ], dtype=float32), 22050], 'Aunlabelledtest__201106100606': [array([-0.00037625, -0.00050016, -0.00047344, ...,  0.00363635,\n",
      "        0.00292891,  0.00288949], dtype=float32), 22050], 'extrahls__201104140118': [array([ 1.3269353e-04, -1.1947730e-04, -4.9378094e-04, ...,\n",
      "        5.7485078e-05, -2.1269548e-04,  1.0651939e-04], dtype=float32), 22050], 'extrahls__201101070953': [array([0.00069671, 0.00096986, 0.00022954, ..., 0.00032827, 0.00022547,\n",
      "       0.        ], dtype=float32), 22050], 'extrahls__201103170134': [array([ 2.79745382e-05, -1.04169785e-05, -1.53789690e-04, ...,\n",
      "        5.81414031e-04,  4.94407723e-04,  3.58110701e-04], dtype=float32), 22050], 'murmur__201108222242': [array([-0.02571658, -0.04124279, -0.03882721, ...,  0.00794539,\n",
      "        0.00785142,  0.00770792], dtype=float32), 22050], 'artifact__201106190520': [array([-0.0018409 , -0.00268991, -0.00250796, ...,  0.00025852,\n",
      "       -0.00054619,  0.00043245], dtype=float32), 22050], 'Aunlabelledtest__201108011116': [array([0.00641422, 0.01031164, 0.00973397, ..., 0.09746955, 0.09946579,\n",
      "       0.10139553], dtype=float32), 22050], 'extrahls__201102071835': [array([-2.7366835e-04,  3.6170234e-06,  3.3946734e-04, ...,\n",
      "        3.2059283e-03,  3.7124068e-03,  0.0000000e+00], dtype=float32), 22050], 'normal__201106210943': [array([-0.00028668, -0.0003328 , -0.00151168, ..., -0.00097357,\n",
      "       -0.00138444,  0.        ], dtype=float32), 22050], 'normal__201108011118': [array([-0.00223223, -0.00359233, -0.00330892, ..., -0.02214403,\n",
      "       -0.02227895, -0.0223667 ], dtype=float32), 22050], 'murmur__201108222252': [array([ 0.11305694,  0.18161847,  0.17217202, ..., -0.01064409,\n",
      "       -0.01304595, -0.01538651], dtype=float32), 22050], 'artifact__201106212112': [array([-0.3812379 , -0.7975581 , -0.75528216, ...,  0.5685024 ,\n",
      "        0.5288627 ,  0.24920046], dtype=float32), 22050], 'murmur__201101051104': [array([-0.00534243, -0.00748928, -0.00611901, ..., -0.00377064,\n",
      "       -0.00420074,  0.        ], dtype=float32), 22050], 'artifact__201106050353': [array([0.00161988, 0.0025048 , 0.00271243, ..., 0.00463062, 0.00550003,\n",
      "       0.00558649], dtype=float32), 22050], 'normal__201102270940': [array([-0.00055406, -0.00092452, -0.000357  , ..., -0.00059544,\n",
      "       -0.00043094, -0.00032623], dtype=float32), 22050], 'Aunlabelledtest__201108222241': [array([-0.00377215, -0.0060017 , -0.00555889, ...,  0.01111175,\n",
      "        0.01108817,  0.01102636], dtype=float32), 22050], 'artifact__201105190800': [array([ 0.00127183,  0.00183933,  0.00154765, ...,  0.00022381,\n",
      "        0.00205141, -0.00761958], dtype=float32), 22050], 'extrahls__201101161027': [array([0.00488499, 0.0054872 , 0.00522677, ..., 0.0016778 , 0.00229006,\n",
      "       0.00259958], dtype=float32), 22050], 'normal__201105021654': [array([-0.0014614 , -0.00671409, -0.00285988, ..., -0.00411588,\n",
      "       -0.00817969,  0.        ], dtype=float32), 22050], 'Aunlabelledtest__201105011546': [array([-0.02238664, -0.03021601, -0.02242386, ..., -0.0003872 ,\n",
      "       -0.00160423, -0.0034118 ], dtype=float32), 22050], 'artifact__201106131834': [array([ 0.07489977,  0.17541987,  0.23955272, ..., -0.52080965,\n",
      "       -0.5226425 , -0.5151155 ], dtype=float32), 22050], 'Aunlabelledtest__201108222254': [array([-0.01583952, -0.02557304, -0.02443746, ..., -0.01521653,\n",
      "       -0.01534893, -0.01544764], dtype=float32), 22050], 'murmur__201108222235': [array([-0.02310273, -0.03701204, -0.03489673, ...,  0.03450194,\n",
      "        0.03409987,  0.03363984], dtype=float32), 22050], 'Aunlabelledtest__201101061552': [array([0.00214357, 0.00271992, 0.00164846, ..., 0.00525659, 0.00416132,\n",
      "       0.00217384], dtype=float32), 22050], 'normal__201103140132': [array([ 1.5239976e-04,  4.5213412e-05, -1.0498433e-04, ...,\n",
      "       -7.7162852e-04, -8.4106263e-04, -5.6021701e-04], dtype=float32), 22050], 'Aunlabelledtest__201108222257': [array([0.0161798 , 0.02584397, 0.02421872, ..., 0.01988476, 0.01966265,\n",
      "       0.01948802], dtype=float32), 22050], 'normal__201105021804': [array([-0.0219472 , -0.03220462, -0.02844228, ...,  0.01193352,\n",
      "        0.01099696,  0.01020292], dtype=float32), 22050], 'artifact__201106220340': [array([-0.08483887, -0.12731072, -0.07743659, ..., -0.00242991,\n",
      "       -0.00318715, -0.00279797], dtype=float32), 22050], 'Aunlabelledtest__201108222222': [array([-0.00625085, -0.00972465, -0.00873797, ...,  0.00736733,\n",
      "        0.00752313,  0.00768514], dtype=float32), 22050], 'Aunlabelledtest__201106031556': [array([-3.7459859e-06, -4.5828492e-06,  5.1123607e-06, ...,\n",
      "        1.1697748e-03,  9.7109430e-04,  8.7778026e-04], dtype=float32), 22050], 'extrahls__201101152255': [array([ 2.54881343e-06,  1.20828736e-04,  1.33141395e-04, ...,\n",
      "        9.69057801e-05,  4.86858626e-05, -1.12630696e-05], dtype=float32), 22050], 'extrahls__201101241423': [array([-0.00344803, -0.00478624, -0.00391117, ...,  0.00175954,\n",
      "        0.00154002,  0.00111617], dtype=float32), 22050], 'Aunlabelledtest__201106150614': [array([-0.04648627,  0.05643921,  0.11161343, ...,  0.00523803,\n",
      "       -0.00041182, -0.00809513], dtype=float32), 22050], 'murmur__201108222223': [array([ 0.01639377,  0.02694009,  0.02657546, ..., -0.00077217,\n",
      "       -0.0007297 , -0.00073586], dtype=float32), 22050], 'artifact__201106161019': [array([-0.01549857, -0.02000491,  0.00151987, ...,  0.0316333 ,\n",
      "        0.02327402,  0.01384768], dtype=float32), 22050], 'murmur__201108222233': [array([-0.00416366, -0.00674572, -0.00649558, ...,  0.0042393 ,\n",
      "        0.00479021,  0.00526432], dtype=float32), 22050], 'murmur__201108222236': [array([-0.04893993, -0.07857092, -0.07428034, ..., -0.03287894,\n",
      "       -0.03292753, -0.03294756], dtype=float32), 22050], 'murmur__201108222227': [array([-4.6957891e-02, -7.2845154e-02, -6.4511470e-02, ...,\n",
      "       -4.6942252e-04, -2.5636863e-04, -2.0198497e-05], dtype=float32), 22050], 'normal__201108011114': [array([ 0.01138339,  0.01817248,  0.01708908, ..., -0.00670643,\n",
      "       -0.00668848, -0.00672068], dtype=float32), 22050], 'extrahls__201101241433': [array([-2.4090294e-04, -3.4213107e-04, -1.7316017e-05, ...,\n",
      "       -2.9177463e-04, -2.5136271e-04, -4.3893080e-05], dtype=float32), 22050], 'normal__201106111136': [array([-0.5130403 , -0.74540997, -0.6477458 , ..., -0.01070653,\n",
      "       -0.01062907,  0.        ], dtype=float32), 22050], 'normal__201106221418': [array([ 1.0081098e-03,  2.2323406e-03,  4.3337601e-03, ...,\n",
      "       -2.3198676e-04, -6.9080488e-05,  0.0000000e+00], dtype=float32), 22050], 'Aunlabelledtest__201106010807': [array([-0.03974677, -0.04654829, -0.02513735, ...,  0.00186355,\n",
      "        0.00178011,  0.00105334], dtype=float32), 22050], 'Aunlabelledtest__201102200848': [array([ 0.00532698,  0.00790131,  0.00717434, ..., -0.0034893 ,\n",
      "       -0.00341235, -0.00316448], dtype=float32), 22050], 'murmur__201108222243': [array([-0.0069134 , -0.01121289, -0.01070484, ...,  0.17637381,\n",
      "        0.17708607,  0.17784674], dtype=float32), 22050], 'extrahls__201103200218': [array([0.00740766, 0.01084759, 0.01077706, ..., 0.00201132, 0.00100572,\n",
      "       0.00057438], dtype=float32), 22050], 'artifact__201105051017': [array([-0.00274294, -0.00664962, -0.00497793, ..., -0.00579324,\n",
      "       -0.00385751, -0.00184489], dtype=float32), 22050], 'murmur__201108222224': [array([ 0.01489727,  0.02365474,  0.02206295, ..., -0.17057171,\n",
      "       -0.17595193, -0.18128796], dtype=float32), 22050], 'murmur__201103291548': [array([ 0.10220519,  0.14969164,  0.13206087, ..., -0.06731061,\n",
      "       -0.06770229, -0.06809975], dtype=float32), 22050], 'Aunlabelledtest__201103140236': [array([ 4.4346216e-05, -1.0637071e-04, -2.2530576e-04, ...,\n",
      "        1.1367584e-04,  1.2425719e-04, -2.0046216e-05], dtype=float32), 22050], 'Aunlabelledtest__201108011111': [array([-0.00932159, -0.0150316 , -0.01426922, ..., -0.00744972,\n",
      "       -0.00749852, -0.00759226], dtype=float32), 22050], 'Aunlabelledtest__201106171155': [array([-0.5884968 , -0.82973105, -0.6769619 , ..., -0.6600071 ,\n",
      "       -0.6486504 , -0.6287977 ], dtype=float32), 22050], 'artifact__201012172012': [array([ 2.2960085e-05, -1.2982322e-04, -1.8070513e-04, ...,\n",
      "       -6.7885034e-05, -2.9959172e-05,  2.9171622e-05], dtype=float32), 22050], 'murmur__201101051108': [array([-2.0351245e-03, -3.0493129e-03, -2.8973869e-03, ...,\n",
      "       -1.3470931e-05, -1.5488411e-04,  0.0000000e+00], dtype=float32), 22050], 'murmur__201108222255': [array([0.00410348, 0.00661201, 0.00641492, ..., 0.00222543, 0.00236505,\n",
      "       0.00253862], dtype=float32), 22050], 'normal__201103170121': [array([-2.0855921e-03, -2.9325464e-03, -2.4543959e-03, ...,\n",
      "        1.1712864e-06, -1.1966990e-04,  0.0000000e+00], dtype=float32), 22050], 'extrahls__201101160804': [array([-0.00399464, -0.00667288, -0.00546877, ...,  0.00139892,\n",
      "        0.00126769,  0.        ], dtype=float32), 22050], 'normal__201102260502': [array([-0.0103488 , -0.01557834, -0.01434575, ..., -0.00271633,\n",
      "       -0.00273611, -0.00261847], dtype=float32), 22050], 'normal__201104122156': [array([0.00268911, 0.00316872, 0.00223602, ..., 0.00987583, 0.01081291,\n",
      "       0.01160833], dtype=float32), 22050], 'artifact__201106211041': [array([-4.8636471e-06,  4.9547098e-06, -4.7885021e-07, ...,\n",
      "        5.1013441e-03,  3.9009871e-03,  2.0310844e-03], dtype=float32), 22050], 'Aunlabelledtest__201108222228': [array([0.01359434, 0.02251065, 0.02244912, ..., 0.04169769, 0.04291524,\n",
      "       0.04409199], dtype=float32), 22050], 'extrahls__201104270458': [array([-0.022208  , -0.03018731, -0.02484063, ..., -0.00208292,\n",
      "       -0.00102785,  0.        ], dtype=float32), 22050], 'murmur__201108222245': [array([-0.18509586, -0.2967074 , -0.28028205, ..., -0.01000661,\n",
      "       -0.0092838 , -0.00859655], dtype=float32), 22050], 'normal__201103140822': [array([-2.3382358e-06,  3.9380367e-04,  8.7406795e-04, ...,\n",
      "       -4.5216400e-03, -6.2155901e-03, -8.2192905e-03], dtype=float32), 22050], 'Aunlabelledtest__201103011036': [array([0.00295755, 0.00474015, 0.00377922, ..., 0.00357547, 0.00353455,\n",
      "       0.00452062], dtype=float32), 22050], 'murmur__201108222231': [array([ 0.00256585,  0.00437539,  0.00447189, ..., -0.15101391,\n",
      "       -0.15169792, -0.1523337 ], dtype=float32), 22050], 'normal__201102081321': [array([0.0064357 , 0.0085102 , 0.00406755, ..., 0.03486088, 0.03216626,\n",
      "       0.03053244], dtype=float32), 22050], 'Aunlabelledtest__201103201314': [array([ 0.00076545,  0.00201516,  0.00176118, ..., -0.00144639,\n",
      "       -0.00096666, -0.00052236], dtype=float32), 22050], 'artifact__201106010559': [array([-6.1865954e-04, -1.3619001e-04,  1.6468237e-05, ...,\n",
      "       -1.2701761e-03, -1.0913608e-03, -1.2124435e-03], dtype=float32), 22050], 'Aunlabelledtest__201101220549': [array([0.00050156, 0.00131427, 0.00194581, ..., 0.01612025, 0.01545968,\n",
      "       0.01401422], dtype=float32), 22050], 'Aunlabelledtest__201106211725': [array([-0.00931918, -0.0135809 , -0.01244215, ..., -0.00622544,\n",
      "       -0.00514937,  0.        ], dtype=float32), 22050], 'Aunlabelledtest__201101241434': [array([-0.05221387, -0.07759592, -0.06950485, ..., -0.00013773,\n",
      "        0.00034637,  0.00100719], dtype=float32), 22050], 'Aunlabelledtest__201102081045': [array([-0.00086942, -0.00108706, -0.00096789, ..., -0.00014711,\n",
      "       -0.00011912, -0.00032105], dtype=float32), 22050], 'murmur__201104291843': [array([1.0878358e-03, 1.0860008e-03, 8.6276137e-05, ..., 1.7937967e-03,\n",
      "       1.7615682e-03, 0.0000000e+00], dtype=float32), 22050], 'normal__201104141251': [array([0.00098281, 0.00126618, 0.0012844 , ..., 0.00022665, 0.00011931,\n",
      "       0.        ], dtype=float32), 22050], 'murmur__201108222248': [array([-0.00061363, -0.00093659, -0.00085203, ..., -0.07711692,\n",
      "       -0.07768863, -0.07817348], dtype=float32), 22050], 'murmur__201108222232': [array([-0.14492324, -0.23561141, -0.22785914, ...,  0.01262038,\n",
      "        0.01242322,  0.01224748], dtype=float32), 22050], 'Aunlabelledtest__201108011113': [array([0.01193849, 0.01919857, 0.01815429, ..., 0.00088382, 0.00068518,\n",
      "       0.00047316], dtype=float32), 22050], 'murmur__201106141148': [array([0.00251318, 0.00291358, 0.0023472 , ..., 0.00852987, 0.00967205,\n",
      "       0.01052539], dtype=float32), 22050], 'artifact__201106041452': [array([-3.5603410e-01, -5.4557556e-01, -4.7845379e-01, ...,\n",
      "        6.2116125e-04,  1.3521411e-04,  4.9574017e-03], dtype=float32), 22050], 'normal__201108011112': [array([ 0.0070947 ,  0.01135345,  0.0106981 , ..., -0.00745519,\n",
      "       -0.00752033, -0.00762461], dtype=float32), 22050], 'murmur__201102052338': [array([0.00819966, 0.0116692 , 0.00967661, ..., 0.04589196, 0.0451837 ,\n",
      "       0.0443966 ], dtype=float32), 22050], 'extrahls__201101091153': [array([ 1.4693115e-04,  3.9884404e-04, -9.1850008e-05, ...,\n",
      "       -4.9224994e-03, -5.9613520e-03, -5.9177144e-03], dtype=float32), 22050], 'murmur__201102051443': [array([ 1.1411144e-03,  1.9435775e-03, -4.6890051e-05, ...,\n",
      "        5.8366288e-03,  5.2162819e-03,  0.0000000e+00], dtype=float32), 22050], 'Aunlabelledtest__201106040930': [array([-0.00018705, -0.00086262, -0.00078316, ..., -0.0027954 ,\n",
      "       -0.00323577, -0.00387046], dtype=float32), 22050], 'normal__201105151450': [array([ 0.00339255,  0.00495828,  0.00485655, ..., -0.00032677,\n",
      "       -0.00052153, -0.00040816], dtype=float32), 22050], 'Aunlabelledtest__201108222225': [array([-0.0114533 , -0.01820911, -0.01697417, ...,  0.01776037,\n",
      "        0.01815996,  0.0185567 ], dtype=float32), 22050], 'Aunlabelledtest__201103241336': [array([0.00103816, 0.00129336, 0.00242399, ..., 0.00174881, 0.00138454,\n",
      "       0.00105948], dtype=float32), 22050], 'Aunlabelledtest__201108222247': [array([ 0.00869665,  0.01404684,  0.01329416, ..., -0.00038129,\n",
      "       -0.00042371, -0.00047506], dtype=float32), 22050], 'normal__201103151912': [array([ 0.01236216,  0.01753263,  0.01493562, ..., -0.0005252 ,\n",
      "       -0.00061356, -0.00050153], dtype=float32), 22050], 'extrahls__201102070251': [array([-2.1254840e-04, -4.0222795e-04, -2.4441560e-04, ...,\n",
      "        8.3545092e-05, -5.0447412e-05, -6.7373257e-05], dtype=float32), 22050], 'normal__201106141148': [array([-0.00148534, -0.00135847, -0.00076661, ...,  0.00855081,\n",
      "        0.0096765 ,  0.01049793], dtype=float32), 22050], 'Aunlabelledtest__201106030607': [array([-0.01274829,  0.13450351,  0.2705695 , ...,  0.00180066,\n",
      "       -0.0016831 ,  0.00409728], dtype=float32), 22050], 'murmur__201108222246': [array([-0.03163749, -0.05069996, -0.04779623, ...,  0.00081208,\n",
      "        0.00081699,  0.00084608], dtype=float32), 22050], 'Aunlabelledtest__2011040239': [array([-0.00063419, -0.00058623, -0.00279418, ..., -0.00160089,\n",
      "       -0.00049446,  0.00209741], dtype=float32), 22050], 'artifact__201105060108': [array([ 0.00010622,  0.00150022,  0.00972549, ...,  0.00871367,\n",
      "        0.00263015, -0.00182435], dtype=float32), 22050], 'artifact__201106040933': [array([-1.55740010e-04,  2.92393124e-05, -2.38583336e-04, ...,\n",
      "        1.04198018e-02,  1.03001995e-02,  9.77921300e-03], dtype=float32), 22050], 'artifact__201106070537': [array([0.00206396, 0.00310217, 0.00170325, ..., 0.00026458, 0.00061691,\n",
      "       0.00059101], dtype=float32), 22050], 'artifact__201106061233': [array([0.05336705, 0.07821834, 0.06920283, ..., 0.02681381, 0.02571025,\n",
      "       0.02700501], dtype=float32), 22050], 'artifact__201106221254': [array([-0.06543328, -0.04665148,  0.02115761, ...,  0.00026829,\n",
      "        0.00176764,  0.00397372], dtype=float32), 22050], 'artifact__201106040947': [array([ 6.1658316e-04,  1.9417589e-03,  1.2640551e-03, ...,\n",
      "       -5.2451906e-05, -1.1284340e-04, -5.0903080e-05], dtype=float32), 22050], 'Aunlabelledtest__201012172010': [array([-1.3127440e-04, -3.9975916e-05,  1.9595771e-04, ...,\n",
      "        9.5136493e-05, -3.2209911e-05,  3.4855169e-05], dtype=float32), 22050], 'murmur__201108222237': [array([-0.00751362, -0.01203157, -0.01128798, ...,  0.03509765,\n",
      "        0.0351567 ,  0.03515671], dtype=float32), 22050], 'artifact__201106121445': [array([-2.2097403e-05,  1.6738712e-05, -3.4687732e-06, ...,\n",
      "       -1.2911452e-03, -1.9362789e-03, -2.0700637e-03], dtype=float32), 22050], 'normal__201101070538': [array([ 3.7228575e-04,  3.7436830e-04,  4.3366199e-05, ...,\n",
      "       -1.2857039e-03, -1.3911559e-03,  0.0000000e+00], dtype=float32), 22050], 'murmur__201101051114': [array([ 0.03791592,  0.0542744 ,  0.04593674, ..., -0.02552651,\n",
      "       -0.02560364,  0.        ], dtype=float32), 22050], 'extrahls__201103150114': [array([-0.00583444, -0.00844035, -0.0063408 , ...,  0.00254249,\n",
      "        0.00148972,  0.00142201], dtype=float32), 22050], 'artifact__201105040918': [array([-1.09276352e-05,  1.05744243e-06,  2.10856706e-06, ...,\n",
      "        1.35656446e-04, -7.52903215e-05, -1.09546316e-04], dtype=float32), 22050], 'murmur__201108222221': [array([-0.00098047, -0.00172373, -0.00183416, ..., -0.00930601,\n",
      "       -0.00938264, -0.00939212], dtype=float32), 22050], 'artifact__201106021541': [array([-1.2306774e-05,  2.4150445e-06,  2.7588162e-06, ...,\n",
      "       -3.3879481e-04, -2.8175169e-03, -3.6273175e-03], dtype=float32), 22050], 'extrahls__201103182227': [array([-4.4492906e-05,  8.3205021e-05,  1.4219743e-04, ...,\n",
      "        6.1784645e-05, -3.4482891e-05,  1.7579740e-05], dtype=float32), 22050], 'artifact__201105280851': [array([ 0.01442197,  0.01607323, -0.00701519, ...,  0.01033439,\n",
      "        0.0111134 ,  0.0111956 ], dtype=float32), 22050], 'Aunlabelledtest__201106111419': [array([ 0.01303485,  0.01895149,  0.01640232, ..., -0.00186305,\n",
      "       -0.00192938, -0.00192451], dtype=float32), 22050], 'artifact__201106131835': [array([-0.08328357, -0.16923852, -0.21172872, ...,  0.29326513,\n",
      "        0.33901712,  0.38014632], dtype=float32), 22050], 'artifact__201106101955': [array([-0.096326  , -0.05261455, -0.11718152, ...,  0.45603538,\n",
      "        0.44916373,  0.44965768], dtype=float32), 22050], 'extrahls__201104021355': [array([-0.00060683, -0.00101923,  0.00033903, ...,  0.00365962,\n",
      "        0.00323689,  0.00312393], dtype=float32), 22050], 'artifact__201106010602': [array([-0.01515064, -0.02891029,  0.06452727, ..., -0.0625065 ,\n",
      "        0.58754605, -0.22637032], dtype=float32), 22050], 'normal__201103140135': [array([ 0.00010195,  0.00014727,  0.00010489, ..., -0.00105749,\n",
      "       -0.00120408, -0.00107138], dtype=float32), 22050], 'Aunlabelledtest__201101091156': [array([ 0.00128635,  0.00130531,  0.00055914, ..., -0.00078224,\n",
      "       -0.00080609, -0.00064227], dtype=float32), 22050], 'murmur__201108222226': [array([-0.03048638, -0.04955173, -0.04787821, ...,  0.01091676,\n",
      "        0.01090675,  0.01089715], dtype=float32), 22050], 'Aunlabelledtest__20110501548': [array([-0.00250118, -0.00237908, -0.0002823 , ..., -0.00154916,\n",
      "       -0.0015102 , -0.00058457], dtype=float32), 22050], 'Aunlabelledtest__201106061215': [array([ 0.00055837,  0.00068338,  0.00029442, ..., -0.00170593,\n",
      "       -0.0018661 , -0.00172299], dtype=float32), 22050], 'Aunlabelledtest__201105031730': [array([ 0.00115984,  0.00291818,  0.00321555, ..., -0.00189279,\n",
      "       -0.00255964,  0.        ], dtype=float32), 22050], 'artifact__201106211430': [array([-1.6916023e-05, -7.8809234e-07,  3.2338728e-06, ...,\n",
      "       -8.6858182e-04, -2.1231885e-03, -3.6423679e-03], dtype=float32), 22050], 'extrahls__201102241217': [array([-3.0431345e-02, -4.6264563e-02, -4.2145688e-02, ...,\n",
      "       -1.4131298e-05, -6.1911880e-04, -3.1313364e-04], dtype=float32), 22050], 'Aunlabelledtest__201102081033': [array([0.0051206 , 0.00801246, 0.00818821, ..., 0.00459134, 0.00428224,\n",
      "       0.        ], dtype=float32), 22050], 'normal__201106221450': [array([ 0.00074557,  0.00089899,  0.00056884, ..., -0.0006902 ,\n",
      "       -0.00103222, -0.00161252], dtype=float32), 22050], 'murmur__201108222238': [array([-0.00895599, -0.01432348, -0.01348634, ...,  0.0036004 ,\n",
      "        0.00374107,  0.00390156], dtype=float32), 22050], 'normal__201103101140': [array([-5.3420197e-05,  2.2419645e-05, -2.1031412e-05, ...,\n",
      "        4.3650325e-02,  4.3761883e-02,  4.4051189e-02], dtype=float32), 22050], 'artifact__201106121242': [array([-0.06168242, -0.06397686, -0.04942223, ..., -0.09952828,\n",
      "       -0.10866154, -0.12650225], dtype=float32), 22050], 'normal__201105011626': [array([-0.00294437, -0.00525855, -0.004813  , ...,  0.00111539,\n",
      "        0.00112652,  0.00155716], dtype=float32), 22050], 'artifact__201105061143': [array([-1.0826062e-05, -9.5766973e-07,  1.1310921e-06, ...,\n",
      "        8.7035894e-03,  5.9053339e-03,  1.8657831e-04], dtype=float32), 22050], 'murmur__201101180902': [array([-0.04365765, -0.06342941, -0.05516864, ..., -0.01757511,\n",
      "       -0.01747714, -0.01707671], dtype=float32), 22050], 'artifact__201106141701': [array([-0.00022831,  0.0002464 ,  0.00033504, ..., -0.0002292 ,\n",
      "       -0.00038205, -0.00039167], dtype=float32), 22050], 'murmur__201108222258': [array([0.01067339, 0.01710099, 0.01613635, ..., 0.01731439, 0.01808394,\n",
      "       0.01882247], dtype=float32), 22050], 'murmur__201104021355': [array([-0.00061572, -0.00102815,  0.00034581, ...,  0.00365325,\n",
      "        0.00322958,  0.00311654], dtype=float32), 22050], 'Aunlabelledtest__201101051105': [array([-0.00551883, -0.00782612, -0.00659296, ...,  0.00042511,\n",
      "        0.00020413,  0.00032902], dtype=float32), 22050], 'murmur__201104241315': [array([-0.00028923,  0.00010072,  0.00089707, ...,  0.00525704,\n",
      "        0.00488888,  0.00411351], dtype=float32), 22050], 'Aunlabelledtest__201106120928': [array([ 3.0858988e-05, -5.9755903e-06,  5.0782893e-07, ...,\n",
      "        1.3130969e-05, -3.9899996e-06, -2.8105148e-07], dtype=float32), 22050], 'extrahls__201104270459': [array([0.05244081, 0.07652982, 0.0659674 , ..., 0.00182937, 0.00149823,\n",
      "       0.        ], dtype=float32), 22050], 'normal__201102081152': [array([0.00322384, 0.00605249, 0.00324778, ..., 0.00401908, 0.00081207,\n",
      "       0.00301543], dtype=float32), 22050], 'artifact__201106030612': [array([ 2.5676265e-03,  5.3730677e-03,  4.2444770e-03, ...,\n",
      "       -2.4069500e-06,  9.6751801e-06, -2.5288429e-05], dtype=float32), 22050], 'Aunlabelledtest__201106170857': [array([ 3.4010955e-06, -2.8996981e-06,  8.6887976e-06, ...,\n",
      "        2.8224072e-01,  3.3901000e-01,  3.4669539e-01], dtype=float32), 22050], 'artifact__201106070949': [array([-0.05880645, -0.05314862,  0.15015475, ...,  0.0202035 ,\n",
      "        0.01200848,  0.00888352], dtype=float32), 22050], 'Aunlabelledtest__201108222234': [array([-0.00403367, -0.00652382, -0.00620944, ...,  0.00320078,\n",
      "        0.00332636,  0.0034048 ], dtype=float32), 22050], 'artifact__201106161219': [array([-0.00640979, -0.00942794, -0.00818733, ...,  0.00073901,\n",
      "       -0.00027526, -0.00036489], dtype=float32), 22050], 'Aunlabelledtest__201108011117': [array([-0.00545916, -0.00868141, -0.00809419, ..., -0.01538341,\n",
      "       -0.01536649, -0.01533138], dtype=float32), 22050], 'extrahls__201101160808': [array([ 1.05807092e-02,  1.49153555e-02,  1.36261983e-02, ...,\n",
      "        1.75019552e-04, -9.42764600e-05, -3.04999758e-05], dtype=float32), 22050], 'artifact__201106171003': [array([-0.00302866, -0.00455776, -0.00497177, ...,  0.00757715,\n",
      "        0.0087881 ,  0.00809962], dtype=float32), 22050], 'artifact__201106040722': [array([ 0.4580414 ,  0.79171896,  0.7885904 , ..., -0.30310518,\n",
      "       -0.3959545 , -0.44957605], dtype=float32), 22050], 'Aunlabelledtest__201104012144': [array([0.00223746, 0.00408793, 0.00385829, ..., 0.00169553, 0.00055114,\n",
      "       0.0003584 ], dtype=float32), 22050], 'normal__201108011115': [array([0.00257242, 0.00415912, 0.00409296, ..., 0.00065722, 0.00094026,\n",
      "       0.00123769], dtype=float32), 22050], 'normal__201101151127': [array([ 0.03053026,  0.04492466,  0.03948963, ..., -0.07007798,\n",
      "       -0.0713998 , -0.07237355], dtype=float32), 22050], 'murmur__201108222256': [array([-0.1021604 , -0.16413435, -0.15555602, ..., -0.01068724,\n",
      "       -0.01080223, -0.01097515], dtype=float32), 22050], 'artifact__201106161016': [array([ 1.0850932e-05,  2.8656542e-04, -1.1172225e-03, ...,\n",
      "        5.5113621e-04, -5.7920051e-04, -1.0926283e-03], dtype=float32), 22050], 'artifact__201105041959': [array([ 3.7288570e-05, -1.6645550e-04, -7.4023155e-05, ...,\n",
      "        7.3160205e-05, -5.5856044e-06,  6.9083886e-05], dtype=float32), 22050], 'normal__201106151236': [array([ 5.7240186e-04,  6.5181369e-04,  1.3736862e-03, ...,\n",
      "       -3.2259614e-04,  5.4034371e-07,  0.0000000e+00], dtype=float32), 22050], 'artifact__201106101314': [array([-0.00114713, -0.00592055, -0.00934521, ...,  0.00074349,\n",
      "       -0.00366696,  0.00152923], dtype=float32), 22050], 'normal__201103090635': [array([0.00052508, 0.00036473, 0.00041479, ..., 0.0062059 , 0.00597467,\n",
      "       0.00660737], dtype=float32), 22050], 'Aunlabelledtest__201101110659': [array([ 4.2494864e-04,  5.8110023e-04,  3.6815551e-04, ...,\n",
      "       -5.5339086e-05,  6.8927329e-05, -1.2580364e-04], dtype=float32), 22050], 'murmur__201108222253': [array([-0.1683168 , -0.27006033, -0.25543326, ..., -0.0103858 ,\n",
      "       -0.00954787, -0.00869334], dtype=float32), 22050], 'Aunlabelledtest__201108222244': [array([-0.32137942, -0.512757  , -0.480267  , ...,  0.16375157,\n",
      "        0.16056755,  0.15707219], dtype=float32), 22050], 'Aunlabelledtest__201106212102': [array([-1.6654840e-05,  3.3122583e-06, -2.3812456e-07, ...,\n",
      "       -1.5465412e-02, -1.6215669e-02, -1.6866390e-02], dtype=float32), 22050]}\n"
     ]
    }
   ],
   "source": [
    "print(sounds)"
   ]
  },
  {
   "cell_type": "code",
   "execution_count": 4,
   "metadata": {},
   "outputs": [
    {
     "data": {
      "text/plain": [
       "<matplotlib.collections.PolyCollection at 0x7fe47338e9b0>"
      ]
     },
     "execution_count": 4,
     "metadata": {},
     "output_type": "execute_result"
    },
    {
     "data": {
      "image/png": "[encoded data removed]",
      "text/plain": [
       "<matplotlib.figure.Figure at 0x7fe472a387b8>"
      ]
     },
     "metadata": {},
     "output_type": "display_data"
    }
   ],
   "source": [
    "wave, sampling_rate = librosa.load(\"Sounds/set_a/artifact__201012172012.wav\")\n",
    "\n",
    "\n",
    "plt.figure(figsize=(12, 4))\n",
    "librosa.dis\n",
    "play.waveplot(wave,sr=sampling_rate)"
   ]
  },
  {
   "cell_type": "code",
   "execution_count": 6,
   "metadata": {},
   "outputs": [
    {
     "name": "stdout",
     "output_type": "stream",
     "text": [
      "  dataset                             fname     label  sublabel\n",
      "0       a  set_a/artifact__201012172012.wav  artifact       NaN\n",
      "1       a  set_a/artifact__201105040918.wav  artifact       NaN\n",
      "2       a  set_a/artifact__201105041959.wav  artifact       NaN\n",
      "3       a  set_a/artifact__201105051017.wav  artifact       NaN\n",
      "4       a  set_a/artifact__201105060108.wav  artifact       NaN\n"
     ]
    }
   ],
   "source": [
    "set_a = pd.read_csv(\"Sounds/set_a.csv\")\n",
    "print(set_a.head())"
   ]
  },
  {
   "cell_type": "code",
   "execution_count": null,
   "metadata": {},
   "outputs": [],
   "source": []
  },
  {
   "cell_type": "code",
   "execution_count": null,
   "metadata": {},
   "outputs": [],
   "source": []
  }
 ],
 "metadata": {
  "kernelspec": {
   "display_name": "Python 3",
   "language": "python",
   "name": "python3"
  },
  "language_info": {
   "codemirror_mode": {
    "name": "ipython",
    "version": 3
   },
   "file_extension": ".py",
   "mimetype": "text/x-python",
   "name": "python",
   "nbconvert_exporter": "python",
   "pygments_lexer": "ipython3",
   "version": "3.6.4"
  }
 },
 "nbformat": 4,
 "nbformat_minor": 2
}
