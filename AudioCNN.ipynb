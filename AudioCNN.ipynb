{
 "cells": [
  {
   "cell_type": "code",
   "execution_count": 3,
   "metadata": {},
   "outputs": [
    {
     "name": "stdout",
     "output_type": "stream",
     "text": [
      "Populating the interactive namespace from numpy and matplotlib\n"
     ]
    }
   ],
   "source": [
    "% pylab inline\n",
    "import os\n",
    "import pandas as pd\n",
    "import librosa\n",
    "import librosa.display\n",
    "import glob \n",
    "import pandas as pd"
   ]
  },
  {
   "cell_type": "code",
   "execution_count": 12,
   "metadata": {},
   "outputs": [
    {
     "name": "stdout",
     "output_type": "stream",
     "text": [
      "Aunlabelledtest__201106130440.\n",
      "artifact__201106031558.\n",
      "normal__201103221214.\n",
      "normal__201102201230.\n",
      "artifact__201106110909.\n",
      "Aunlabelledtest__201103232251.\n",
      "Aunlabelledtest__201103200518.\n",
      "Aunlabelledtest__201103170122.\n",
      "Aunlabelledtest__201106061104.\n",
      "artifact__201106111119.\n",
      "Aunlabelledtest__201106191034.\n",
      "Aunlabelledtest__201101152256.\n",
      "murmur__201108222251.\n",
      "Aunlabelledtest__201106100606.\n",
      "extrahls__201104140118.\n",
      "extrahls__201101070953.\n",
      "extrahls__201103170134.\n",
      "murmur__201108222242.\n",
      "artifact__201106190520.\n",
      "Aunlabelledtest__201108011116.\n",
      "extrahls__201102071835.\n",
      "normal__201106210943.\n",
      "normal__201108011118.\n",
      "murmur__201108222252.\n",
      "artifact__201106212112.\n",
      "murmur__201101051104.\n",
      "artifact__201106050353.\n",
      "normal__201102270940.\n",
      "Aunlabelledtest__201108222241.\n",
      "artifact__201105190800.\n",
      "extrahls__201101161027.\n",
      "normal__201105021654.\n",
      "Aunlabelledtest__201105011546.\n",
      "artifact__201106131834.\n",
      "Aunlabelledtest__201108222254.\n",
      "murmur__201108222235.\n",
      "Aunlabelledtest__201101061552.\n",
      "normal__201103140132.\n",
      "Aunlabelledtest__201108222257.\n",
      "normal__201105021804.\n",
      "artifact__201106220340.\n",
      "Aunlabelledtest__201108222222.\n",
      "Aunlabelledtest__201106031556.\n",
      "extrahls__201101152255.\n",
      "extrahls__201101241423.\n",
      "Aunlabelledtest__201106150614.\n",
      "murmur__201108222223.\n",
      "artifact__201106161019.\n",
      "murmur__201108222233.\n",
      "murmur__201108222236.\n",
      "murmur__201108222227.\n",
      "normal__201108011114.\n",
      "extrahls__201101241433.\n",
      "normal__201106111136.\n",
      "normal__201106221418.\n",
      "Aunlabelledtest__201106010807.\n",
      "Aunlabelledtest__201102200848.\n",
      "murmur__201108222243.\n",
      "extrahls__201103200218.\n",
      "artifact__201105051017.\n",
      "murmur__201108222224.\n",
      "murmur__201103291548.\n",
      "Aunlabelledtest__201103140236.\n",
      "Aunlabelledtest__201108011111.\n",
      "Aunlabelledtest__201106171155.\n",
      "artifact__201012172012.\n",
      "murmur__201101051108.\n",
      "murmur__201108222255.\n",
      "normal__201103170121.\n",
      "extrahls__201101160804.\n",
      "normal__201102260502.\n",
      "normal__201104122156.\n",
      "artifact__201106211041.\n",
      "Aunlabelledtest__201108222228.\n",
      "extrahls__201104270458.\n",
      "murmur__201108222245.\n",
      "normal__201103140822.\n",
      "Aunlabelledtest__201103011036.\n",
      "murmur__201108222231.\n",
      "normal__201102081321.\n",
      "Aunlabelledtest__201103201314.\n",
      "artifact__201106010559.\n",
      "Aunlabelledtest__201101220549.\n",
      "Aunlabelledtest__201106211725.\n",
      "Aunlabelledtest__201101241434.\n",
      "Aunlabelledtest__201102081045.\n",
      "murmur__201104291843.\n",
      "normal__201104141251.\n",
      "murmur__201108222248.\n",
      "murmur__201108222232.\n",
      "Aunlabelledtest__201108011113.\n",
      "murmur__201106141148.\n",
      "artifact__201106041452.\n",
      "normal__201108011112.\n",
      "murmur__201102052338.\n",
      "extrahls__201101091153.\n",
      "murmur__201102051443.\n",
      "Aunlabelledtest__201106040930.\n",
      "normal__201105151450.\n",
      "Aunlabelledtest__201108222225.\n",
      "Aunlabelledtest__201103241336.\n",
      "Aunlabelledtest__201108222247.\n",
      "normal__201103151912.\n",
      "extrahls__201102070251.\n",
      "normal__201106141148.\n",
      "Aunlabelledtest__201106030607.\n",
      "murmur__201108222246.\n",
      "Aunlabelledtest__2011040239.\n",
      "artifact__201105060108.\n",
      "artifact__201106040933.\n",
      "artifact__201106070537.\n",
      "artifact__201106061233.\n",
      "artifact__201106221254.\n",
      "artifact__201106040947.\n",
      "Aunlabelledtest__201012172010.\n",
      "murmur__201108222237.\n",
      "artifact__201106121445.\n",
      "normal__201101070538.\n",
      "murmur__201101051114.\n",
      "extrahls__201103150114.\n",
      "artifact__201105040918.\n",
      "murmur__201108222221.\n",
      "artifact__201106021541.\n",
      "extrahls__201103182227.\n",
      "artifact__201105280851.\n",
      "Aunlabelledtest__201106111419.\n",
      "artifact__201106131835.\n",
      "artifact__201106101955.\n",
      "extrahls__201104021355.\n",
      "artifact__201106010602.\n",
      "normal__201103140135.\n",
      "Aunlabelledtest__201101091156.\n",
      "murmur__201108222226.\n",
      "Aunlabelledtest__20110501548.\n",
      "Aunlabelledtest__201106061215.\n",
      "Aunlabelledtest__201105031730.\n",
      "artifact__201106211430.\n",
      "extrahls__201102241217.\n",
      "Aunlabelledtest__201102081033.\n",
      "normal__201106221450.\n",
      "murmur__201108222238.\n",
      "normal__201103101140.\n",
      "artifact__201106121242.\n",
      "normal__201105011626.\n",
      "artifact__201105061143.\n",
      "murmur__201101180902.\n",
      "artifact__201106141701.\n",
      "murmur__201108222258.\n",
      "murmur__201104021355.\n",
      "Aunlabelledtest__201101051105.\n",
      "murmur__201104241315.\n",
      "Aunlabelledtest__201106120928.\n",
      "extrahls__201104270459.\n",
      "normal__201102081152.\n",
      "artifact__201106030612.\n",
      "Aunlabelledtest__201106170857.\n",
      "artifact__201106070949.\n",
      "Aunlabelledtest__201108222234.\n",
      "artifact__201106161219.\n",
      "Aunlabelledtest__201108011117.\n",
      "extrahls__201101160808.\n",
      "artifact__201106171003.\n",
      "artifact__201106040722.\n",
      "Aunlabelledtest__201104012144.\n",
      "normal__201108011115.\n",
      "normal__201101151127.\n",
      "murmur__201108222256.\n",
      "artifact__201106161016.\n",
      "artifact__201105041959.\n",
      "normal__201106151236.\n",
      "artifact__201106101314.\n",
      "normal__201103090635.\n",
      "Aunlabelledtest__201101110659.\n",
      "murmur__201108222253.\n",
      "Aunlabelledtest__201108222244.\n",
      "Aunlabelledtest__201106212102.\n"
     ]
    }
   ],
   "source": [
    "sounds = {}\n",
    "\n",
    "for sound_files in os.listdir(\"Sounds/set_a/\"):\n",
    "    print(sound_files[:len(sound_files) - 4])"
   ]
  },
  {
   "cell_type": "code",
   "execution_count": 4,
   "metadata": {},
   "outputs": [
    {
     "data": {
      "text/plain": [
       "<matplotlib.collections.PolyCollection at 0x7fe47338e9b0>"
      ]
     },
     "execution_count": 4,
     "metadata": {},
     "output_type": "execute_result"
    },
    {
     "data": {
      "image/png": "[encoded data removed]",
      "text/plain": [
       "<matplotlib.figure.Figure at 0x7fe472a387b8>"
      ]
     },
     "metadata": {},
     "output_type": "display_data"
    }
   ],
   "source": [
    "wave, sampling_rate = librosa.load(\"Sounds/set_a/artifact__201012172012.wav\")\n",
    "\n",
    "\n",
    "plt.figure(figsize=(12, 4))\n",
    "librosa.display.waveplot(wave,sr=sampling_rate)"
   ]
  },
  {
   "cell_type": "code",
   "execution_count": 6,
   "metadata": {},
   "outputs": [
    {
     "name": "stdout",
     "output_type": "stream",
     "text": [
      "  dataset                             fname     label  sublabel\n",
      "0       a  set_a/artifact__201012172012.wav  artifact       NaN\n",
      "1       a  set_a/artifact__201105040918.wav  artifact       NaN\n",
      "2       a  set_a/artifact__201105041959.wav  artifact       NaN\n",
      "3       a  set_a/artifact__201105051017.wav  artifact       NaN\n",
      "4       a  set_a/artifact__201105060108.wav  artifact       NaN\n"
     ]
    }
   ],
   "source": [
    "set_a = pd.read_csv(\"Sounds/set_a.csv\")\n",
    "print(set_a.head())"
   ]
  },
  {
   "cell_type": "code",
   "execution_count": null,
   "metadata": {},
   "outputs": [],
   "source": []
  },
  {
   "cell_type": "code",
   "execution_count": null,
   "metadata": {},
   "outputs": [],
   "source": []
  }
 ],
 "metadata": {
  "kernelspec": {
   "display_name": "Python 3",
   "language": "python",
   "name": "python3"
  },
  "language_info": {
   "codemirror_mode": {
    "name": "ipython",
    "version": 3
   },
   "file_extension": ".py",
   "mimetype": "text/x-python",
   "name": "python",
   "nbconvert_exporter": "python",
   "pygments_lexer": "ipython3",
   "version": "3.6.4"
  }
 },
 "nbformat": 4,
 "nbformat_minor": 2
}
