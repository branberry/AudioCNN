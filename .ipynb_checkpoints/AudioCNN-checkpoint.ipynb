{
 "cells": [
  {
   "cell_type": "code",
   "execution_count": 2,
   "metadata": {},
   "outputs": [
    {
     "name": "stdout",
     "output_type": "stream",
     "text": [
      "Populating the interactive namespace from numpy and matplotlib\n"
     ]
    }
   ],
   "source": [
    "% pylab inline\n",
    "import os\n",
    "import pandas as pd\n",
    "import librosa\n",
    "import librosa.display\n",
    "import glob \n",
    "import pandas as pd"
   ]
  },
  {
   "cell_type": "markdown",
   "metadata": {},
   "source": [
    "# Retrieving sound files from set A"
   ]
  },
  {
   "cell_type": "code",
   "execution_count": 4,
   "metadata": {},
   "outputs": [],
   "source": [
    "# The dictionary that will have, as a key, the file name\n",
    "# For each value, it is an array that contains \n",
    "sounds = {}\n",
    "\n",
    "# Looping through each .wav file from set A and loading them into the dictionary\n",
    "for sound_file in os.listdir(\"Sounds/set_a/\"):\n",
    "    filename = sound_file[:len(sound_file) - 4]\n",
    "    sound_file = \"Sounds/set_a/\" + sound_file\n",
    "    wave, sampling_rate = librosa.load(sound_file)\n",
    "    sounds[filename] = [wave, sampling_rate]"
   ]
  },
  {
   "cell_type": "code",
   "execution_count": 4,
   "metadata": {},
   "outputs": [
    {
     "data": {
      "text/plain": [
       "<matplotlib.collections.PolyCollection at 0x7fe47338e9b0>"
      ]
     },
     "execution_count": 4,
     "metadata": {},
     "output_type": "execute_result"
    },
    {
     "data": {
      "image/png": "[encoded data removed]",
      "text/plain": [
       "<matplotlib.figure.Figure at 0x7fe472a387b8>"
      ]
     },
     "metadata": {},
     "output_type": "display_data"
    }
   ],
   "source": [
    "wave, sampling_rate = librosa.load(\"Sounds/set_a/artifact__201012172012.wav\")\n",
    "\n",
    "\n",
    "plt.figure(figsize=(12, 4))\n",
    "librosa.dis\n",
    "play.waveplot(wave,sr=sampling_rate)"
   ]
  },
  {
   "cell_type": "code",
   "execution_count": 6,
   "metadata": {},
   "outputs": [
    {
     "name": "stdout",
     "output_type": "stream",
     "text": [
      "  dataset                             fname     label  sublabel\n",
      "0       a  set_a/artifact__201012172012.wav  artifact       NaN\n",
      "1       a  set_a/artifact__201105040918.wav  artifact       NaN\n",
      "2       a  set_a/artifact__201105041959.wav  artifact       NaN\n",
      "3       a  set_a/artifact__201105051017.wav  artifact       NaN\n",
      "4       a  set_a/artifact__201105060108.wav  artifact       NaN\n"
     ]
    }
   ],
   "source": [
    "set_a = pd.read_csv(\"Sounds/set_a.csv\")\n",
    "print(set_a.head())"
   ]
  },
  {
   "cell_type": "code",
   "execution_count": null,
   "metadata": {},
   "outputs": [],
   "source": [
    "set_a.cols[1]"
   ]
  },
  {
   "cell_type": "code",
   "execution_count": null,
   "metadata": {},
   "outputs": [],
   "source": []
  }
 ],
 "metadata": {
  "kernelspec": {
   "display_name": "Python 3",
   "language": "python",
   "name": "python3"
  },
  "language_info": {
   "codemirror_mode": {
    "name": "ipython",
    "version": 3
   },
   "file_extension": ".py",
   "mimetype": "text/x-python",
   "name": "python",
   "nbconvert_exporter": "python",
   "pygments_lexer": "ipython3",
   "version": "3.6.4"
  }
 },
 "nbformat": 4,
 "nbformat_minor": 2
}
